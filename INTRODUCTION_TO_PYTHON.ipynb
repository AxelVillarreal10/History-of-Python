{
  "nbformat": 4,
  "nbformat_minor": 0,
  "metadata": {
    "colab": {
      "name": "INTRODUCTION TO PYTHON",
      "provenance": [],
      "collapsed_sections": []
    },
    "kernelspec": {
      "name": "python3",
      "display_name": "Python 3"
    },
    "language_info": {
      "name": "python"
    }
  },
  "cells": [
    {
      "cell_type": "markdown",
      "metadata": {
        "id": "20_-BGYLhJJt"
      },
      "source": [
        "**The Histoty of Python**\n",
        "\n",
        "In 1989, Van Rossum was working on a project where he was developing system utilities. He realized that developing in C takes too much time. He decided to spend time building a language that would facilitate C programming.\n",
        "\n",
        "He had an idea for a scripting language that would be somewhere between C and a shell script: interpreted, but much more easily programmable and readable than shell scripts.\n",
        "\n",
        "As he probably guessed, that language turned out to be Python. Fun fact: Python is not named after the snake species, but after the British surreal comedy company Monty Python.\n",
        "\n",
        "In Guido's words: “The reference felt suitably irreverent to what was essentially a 'skunkworks project'. The word 'Python' was also catchy, a bit edgy, and at the same time fit in with the tradition of naming languages after famous people, such as Pascal, Ada, and Eiffel. \"\n",
        "\n",
        "![python](https://cosasdedevs.com/media/sections/images/python.png)\n",
        "\n",
        "\n",
        "In February 1991, Van Rossum published the source code of Python’s interpreter to alt.sources, a Usenet group for open-source code.\n",
        "\n",
        "The first version (0.9.0) had features like classes, exception handling, functions, and the core data types like list, dict, str, etc. It was heavily inspired by ABC, a language that Guido spent some time implementing at CWI. While he was creating Python, his goal was to take the good parts of ABC while he fixed the rest.\n",
        "\n",
        "In January 1994, version 1.0 was released and a separate Usenet group was created for it, marking a milestone in Python history.\n",
        "\n",
        "**Version Table of Python**\n",
        "<table class=\"alt\">\n",
        "<tbody><tr><th>Python Version</th><th>Released Date</th></tr>\n",
        "<tr><td>Python 1.0</td><td>January 1994</td></tr>\n",
        "<tr><td>Python 1.5</td><td>December 31, 1997</td></tr>\n",
        "<tr><td>Python 1.6</td><td>September 5, 2000</td></tr>\n",
        "<tr><td>Python 2.0</td><td>October 16, 2000</td></tr>\n",
        "<tr><td>Python 2.1</td><td>April 17, 2001</td></tr>\n",
        "<tr><td>Python 2.2</td><td>December 21, 2001</td></tr>\n",
        "<tr><td>Python 2.3</td><td>July 29, 2003</td></tr>\n",
        "<tr><td>Python 2.4</td><td>November 30, 2004</td></tr>\n",
        "<tr><td>Python 2.5</td><td>September 19, 2006</td></tr>\n",
        "<tr><td>Python 2.6</td><td>October 1, 2008</td></tr>\n",
        "<tr><td>Python 2.7</td><td>July 3, 2010</td></tr>\n",
        "<tr><td>Python 3.0</td><td>December 3, 2008</td></tr>\n",
        "<tr><td>Python 3.1</td><td>June 27, 2009</td></tr>\n",
        "<tr><td>Python 3.2</td><td>February 20, 2011</td></tr>\n",
        "<tr><td>Python 3.3</td><td>September 29, 2012</td></tr>\n",
        "<tr><td>Python 3.4</td><td>March 16, 2014</td></tr>\n",
        "<tr><td>Python 3.5</td><td>September 13, 2015</td></tr>\n",
        "<tr><td>Python 3.6</td><td>December 23, 2016</td></tr>\n",
        "<tr><td>Python 3.7</td><td>June 27, 2018</td></tr>\n",
        "<tr><td>Python 3.8</td><td>October 14, 2019</td></tr>\n",
        "</tbody></table>\n",
        "\n",
        "**About Python**\n",
        "\n",
        "Now we will see a little about the tools that python provides, We start with the print statement. The print declaration can be used in all versions of Python, but its syntax varies, depending on the version of Python.\n",
        "\n",
        "The print statement can be used to print variables, strings, and other types of data provided in Python. We can print different types of data in the single Python declaration by separating the data types or variables using the symbol <code>,</code>.\n",
        "\n",
        "![python](https://linuxhint.com/wp-content/uploads/2020/09/word-image-1654.png)\n",
        "\n",
        "Another conditional that we use with more frequency for programing is if-else conditional. The if ... else ... control structure allows a program to execute some instructions when a condition is met and other instructions when that condition is not met.\n",
        "\n",
        "The syntax of the if ... else ... construction is as follows:\n",
        "if condition:\n",
        "- Here are the orders that are executed if the condition is true\n",
        "else:\n",
        "- And here are the orders that are executed if the condition is false\n",
        "\n",
        "The condition is always evaluated.\n",
        "1. If the result is True, only the block of statements is executed\n",
        "2. If the result is False, only the block of statements is executed\n",
        "\n",
        "![python](https://www.tutorialbrain.com/wp-content/uploads/2020/07/Python-if-else-statement.png)\n",
        "\n",
        "In programming, it is very common to make a sequence that is repeated several times, so we use the loops that we help us with these cases. A loop is a sequence that repeats the same piece of code several times, until the condition assigned to the loop is no longer fulfilled\n",
        "\n",
        "The most common loops are the while loop, it is responsible for executing a piece of code as long as the while condition is true, and the for loop, in the for loop we can mark the number of interactions that we want our code to repeat.\n",
        "\n",
        "![python](https://www.learnbyexample.org/wp-content/uploads/python/Python-while-Loop-Syntax.png)\n"
      ]
    }
  ]
}